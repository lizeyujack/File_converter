{
 "cells": [
  {
   "cell_type": "code",
   "execution_count": null,
   "metadata": {},
   "outputs": [],
   "source": [
    "pip install pdfplumber"
   ]
  },
  {
   "cell_type": "code",
   "execution_count": 5,
   "metadata": {
    "scrolled": true
   },
   "outputs": [
    {
     "data": {
      "text/html": [
       "<div>\n",
       "<style scoped>\n",
       "    .dataframe tbody tr th:only-of-type {\n",
       "        vertical-align: middle;\n",
       "    }\n",
       "\n",
       "    .dataframe tbody tr th {\n",
       "        vertical-align: top;\n",
       "    }\n",
       "\n",
       "    .dataframe thead th {\n",
       "        text-align: right;\n",
       "    }\n",
       "</style>\n",
       "<table border=\"1\" class=\"dataframe\">\n",
       "  <thead>\n",
       "    <tr style=\"text-align: right;\">\n",
       "      <th></th>\n",
       "      <th>附屬公司名稱</th>\n",
       "      <th>2018 1  \\n年 月\\n \\n至\\n2018 8  \\n年 月</th>\n",
       "      <th>2017 1  \\n年 月\\n \\n至\\n2017 8  \\n年 月</th>\n",
       "    </tr>\n",
       "  </thead>\n",
       "  <tbody>\n",
       "    <tr>\n",
       "      <th>0</th>\n",
       "      <td></td>\n",
       "      <td>百萬元人民幣</td>\n",
       "      <td>百萬元人民幣</td>\n",
       "    </tr>\n",
       "    <tr>\n",
       "      <th>1</th>\n",
       "      <td>人壽保險業務：</td>\n",
       "      <td></td>\n",
       "      <td></td>\n",
       "    </tr>\n",
       "    <tr>\n",
       "      <th>2</th>\n",
       "      <td>太平人壽保險有限公司（「太平人壽」）</td>\n",
       "      <td>94,007.60</td>\n",
       "      <td>89,598.83</td>\n",
       "    </tr>\n",
       "    <tr>\n",
       "      <th>3</th>\n",
       "      <td>財產保險業務：</td>\n",
       "      <td></td>\n",
       "      <td></td>\n",
       "    </tr>\n",
       "    <tr>\n",
       "      <th>4</th>\n",
       "      <td>太平財產保險有限公司（「太平財險」）</td>\n",
       "      <td>16,041.88</td>\n",
       "      <td>13,908.65</td>\n",
       "    </tr>\n",
       "    <tr>\n",
       "      <th>5</th>\n",
       "      <td>養老保險業務：</td>\n",
       "      <td></td>\n",
       "      <td></td>\n",
       "    </tr>\n",
       "    <tr>\n",
       "      <th>6</th>\n",
       "      <td>太平養老保險股份有限公司（「太平養老」）</td>\n",
       "      <td>3,479.48</td>\n",
       "      <td>3,434.56</td>\n",
       "    </tr>\n",
       "  </tbody>\n",
       "</table>\n",
       "</div>"
      ],
      "text/plain": [
       "                 附屬公司名稱 2018 1  \\n年 月\\n \\n至\\n2018 8  \\n年 月  \\\n",
       "0                                                   百萬元人民幣   \n",
       "1               人壽保險業務：                                      \n",
       "2    太平人壽保險有限公司（「太平人壽」）                          94,007.60   \n",
       "3               財產保險業務：                                      \n",
       "4    太平財產保險有限公司（「太平財險」）                          16,041.88   \n",
       "5               養老保險業務：                                      \n",
       "6  太平養老保險股份有限公司（「太平養老」）                           3,479.48   \n",
       "\n",
       "  2017 1  \\n年 月\\n \\n至\\n2017 8  \\n年 月  \n",
       "0                             百萬元人民幣  \n",
       "1                                     \n",
       "2                          89,598.83  \n",
       "3                                     \n",
       "4                          13,908.65  \n",
       "5                                     \n",
       "6                           3,434.56  "
      ]
     },
     "metadata": {},
     "output_type": "display_data"
    }
   ],
   "source": [
    "import pdfplumber\n",
    "pdf = pdfplumber.open(\"12.pdf\")\n",
    "import pandas as pd\n",
    "for page in pdf.pages:\n",
    "    tables=page.extract_tables() \n",
    "    for table in tables:\n",
    "        df=pd.DataFrame(table[1:],columns=table[0])\n",
    "display(df)"
   ]
  },
  {
   "cell_type": "code",
   "execution_count": 6,
   "metadata": {},
   "outputs": [],
   "source": [
    "df.to_excel(\"output.xlsx\")  "
   ]
  }
 ],
 "metadata": {
  "kernelspec": {
   "display_name": "Python 3",
   "language": "python",
   "name": "python3"
  },
  "language_info": {
   "codemirror_mode": {
    "name": "ipython",
    "version": 3
   },
   "file_extension": ".py",
   "mimetype": "text/x-python",
   "name": "python",
   "nbconvert_exporter": "python",
   "pygments_lexer": "ipython3",
   "version": "3.7.4"
  }
 },
 "nbformat": 4,
 "nbformat_minor": 4
}
